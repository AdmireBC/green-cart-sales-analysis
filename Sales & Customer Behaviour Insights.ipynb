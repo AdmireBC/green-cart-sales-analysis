{
 "cells": [
  {
   "cell_type": "code",
   "execution_count": 1,
   "id": "6ef6b2bc-17e4-48a3-9362-c787e809b0d8",
   "metadata": {},
   "outputs": [],
   "source": [
    "import pandas as pd"
   ]
  },
  {
   "cell_type": "code",
   "execution_count": 3,
   "id": "2104bfb0-2774-44d2-b7cf-410319edd6f5",
   "metadata": {},
   "outputs": [],
   "source": [
    "sales_df = pd.read_csv(\"sales_data.csv\")\n",
    "product_df = pd.read_csv(\"product_info.csv\")\n",
    "customer_df = pd.read_csv(\"customer_info.csv\")"
   ]
  },
  {
   "cell_type": "code",
   "execution_count": 77,
   "id": "d2617896-aba6-4a0e-a39b-fe6fda552db6",
   "metadata": {},
   "outputs": [],
   "source": [
    "sales_df['delivery_status'] = sales_df['delivery_status'].str.strip().str.title()\n",
    "sales_df['payment_method'] = sales_df['payment_method'].str.strip().str.title()\n",
    "sales_df['region'] = sales_df['region'].str.strip().str.title()"
   ]
  },
  {
   "cell_type": "code",
   "execution_count": 79,
   "id": "5e05f194-151c-48bc-9c3a-7009457cecc6",
   "metadata": {},
   "outputs": [],
   "source": [
    "sales_df['order_date'] = pd.to_datetime(sales_df['order_date'], errors='coerce')"
   ]
  },
  {
   "cell_type": "code",
   "execution_count": 81,
   "id": "60cabc74-e63d-414a-ac74-e251f233efda",
   "metadata": {},
   "outputs": [],
   "source": [
    "sales_df['discount_applied'] = sales_df['discount_applied'].fillna(0.0)"
   ]
  },
  {
   "cell_type": "code",
   "execution_count": 83,
   "id": "98a46b97-5945-456f-a1d7-8206f8f66614",
   "metadata": {},
   "outputs": [],
   "source": [
    "sales_df['quantity'] = pd.to_numeric(sales_df['quantity'], errors='coerce')\n",
    "sales_df['quantity'] = pd.to_numeric(sales_df['unit_price'], errors='coerce')"
   ]
  },
  {
   "cell_type": "code",
   "execution_count": 85,
   "id": "606a2e55-2a69-45bb-b676-94bf391602bd",
   "metadata": {},
   "outputs": [],
   "source": [
    "sales_df = sales_df[(sales_df['quantity'] >= 0) & (sales_df['unit_price'] >= 0)]"
   ]
  },
  {
   "cell_type": "code",
   "execution_count": 87,
   "id": "92dc1c47-4617-427c-8643-36f2c2aa4095",
   "metadata": {},
   "outputs": [],
   "source": [
    "sales_df = sales_df.drop_duplicates(subset='order_id')"
   ]
  },
  {
   "cell_type": "code",
   "execution_count": 89,
   "id": "56217bfc-d055-41cb-afd8-69bb7fd97cd8",
   "metadata": {},
   "outputs": [
    {
     "name": "stdout",
     "output_type": "stream",
     "text": [
      "order_id            1\n",
      "customer_id         2\n",
      "product_id          5\n",
      "quantity            0\n",
      "unit_price          0\n",
      "order_date          3\n",
      "delivery_status     3\n",
      "payment_method      3\n",
      "region              0\n",
      "discount_applied    0\n",
      "dtype: int64\n"
     ]
    }
   ],
   "source": [
    "print(sales_df.isnull().sum())"
   ]
  },
  {
   "cell_type": "code",
   "execution_count": 91,
   "id": "b5188e57-2adc-4b80-a6e7-96490834ae1f",
   "metadata": {},
   "outputs": [],
   "source": [
    "product_df['category'] = product_df['category'].str.strip().str.title()"
   ]
  },
  {
   "cell_type": "code",
   "execution_count": 93,
   "id": "7390c1c7-5724-46cd-8d9d-dab149b3362c",
   "metadata": {},
   "outputs": [],
   "source": [
    "product_df['launch_date'] = pd.to_datetime(product_df['launch_date'], errors='coerce')"
   ]
  },
  {
   "cell_type": "code",
   "execution_count": 95,
   "id": "28cc3e27-68eb-41e1-ba7d-a830653b750e",
   "metadata": {},
   "outputs": [],
   "source": [
    "product_df['supplier_code'] = product_df['supplier_code'].fillna(\"unknown\")"
   ]
  },
  {
   "cell_type": "code",
   "execution_count": 69,
   "id": "f07cc889-8ee4-4dc4-ba8d-4d9334e0c715",
   "metadata": {},
   "outputs": [],
   "source": [
    "product_df = product_df.drop_duplicates(subset='product_id')"
   ]
  },
  {
   "cell_type": "code",
   "execution_count": 99,
   "id": "ebc4f5f9-4415-4b76-99b2-8745e93e9f18",
   "metadata": {},
   "outputs": [],
   "source": [
    "customer_df['loyalty_tier'] = customer_df['loyalty_tier'].str.strip().str.title()"
   ]
  },
  {
   "cell_type": "code",
   "execution_count": 105,
   "id": "a68008c9-c087-40c4-bfbc-35a0a919589f",
   "metadata": {},
   "outputs": [],
   "source": [
    "customer_df['region'] = customer_df['region'].str.strip().str.title()"
   ]
  },
  {
   "cell_type": "code",
   "execution_count": 109,
   "id": "870751cd-eacc-4a7d-ae0c-02068ba58bee",
   "metadata": {},
   "outputs": [],
   "source": [
    "customer_df['signup_date'] = pd.to_datetime(customer_df['signup_date'], errors='coerce')"
   ]
  },
  {
   "cell_type": "code",
   "execution_count": 111,
   "id": "d0810e87-97a1-426a-babb-c6482d5b8861",
   "metadata": {},
   "outputs": [],
   "source": [
    "customer_df['email'] = customer_df['email'].str.strip()"
   ]
  },
  {
   "cell_type": "code",
   "execution_count": 113,
   "id": "c37ee2d0-dccc-4684-a6da-d161870bc1c2",
   "metadata": {},
   "outputs": [],
   "source": [
    "customer_df['loyalty_tier'] = customer_df['loyalty_tier'].fillna(\"Unknown\")"
   ]
  },
  {
   "cell_type": "code",
   "execution_count": 115,
   "id": "d7f20f36-6bb2-46c3-a700-cc7e45b549e3",
   "metadata": {},
   "outputs": [],
   "source": [
    "customer_df['region'] = customer_df['region'].fillna(\"Unknown\")"
   ]
  },
  {
   "cell_type": "code",
   "execution_count": 117,
   "id": "24c13324-f812-464a-9d9f-ad527cd11c66",
   "metadata": {},
   "outputs": [],
   "source": [
    "customer_df = customer_df.drop_duplicates(subset='customer_id')"
   ]
  },
  {
   "cell_type": "code",
   "execution_count": 121,
   "id": "4f13c2b7-309b-460e-a706-4dc7f1789a86",
   "metadata": {},
   "outputs": [],
   "source": [
    "merged_df = sales_df.merge(product_df, on='product_id', how='left')"
   ]
  },
  {
   "cell_type": "code",
   "execution_count": 125,
   "id": "9ce92017-13bf-4c2e-a6f8-7bf5148a3089",
   "metadata": {},
   "outputs": [],
   "source": [
    "merged_df = merged_df.merge(customer_df, on='customer_id', how='left')"
   ]
  },
  {
   "cell_type": "code",
   "execution_count": 127,
   "id": "cbc8c355-f744-45ea-b73b-1ee8e94a1198",
   "metadata": {},
   "outputs": [
    {
     "name": "stdout",
     "output_type": "stream",
     "text": [
      "<class 'pandas.core.frame.DataFrame'>\n",
      "RangeIndex: 2997 entries, 0 to 2996\n",
      "Data columns (total 20 columns):\n",
      " #   Column            Non-Null Count  Dtype         \n",
      "---  ------            --------------  -----         \n",
      " 0   order_id          2996 non-null   object        \n",
      " 1   customer_id       2995 non-null   object        \n",
      " 2   product_id        2992 non-null   object        \n",
      " 3   quantity          2997 non-null   float64       \n",
      " 4   unit_price        2997 non-null   float64       \n",
      " 5   order_date        2994 non-null   datetime64[ns]\n",
      " 6   delivery_status   2994 non-null   object        \n",
      " 7   payment_method    2994 non-null   object        \n",
      " 8   region_x          2997 non-null   object        \n",
      " 9   discount_applied  2997 non-null   float64       \n",
      " 10  product_name      2992 non-null   object        \n",
      " 11  category          2992 non-null   object        \n",
      " 12  launch_date       2992 non-null   datetime64[ns]\n",
      " 13  base_price        2992 non-null   float64       \n",
      " 14  supplier_code     2992 non-null   object        \n",
      " 15  email             2942 non-null   object        \n",
      " 16  signup_date       2945 non-null   datetime64[ns]\n",
      " 17  gender            2955 non-null   object        \n",
      " 18  region_y          2973 non-null   object        \n",
      " 19  loyalty_tier      2973 non-null   object        \n",
      "dtypes: datetime64[ns](3), float64(4), object(13)\n",
      "memory usage: 468.4+ KB\n"
     ]
    },
    {
     "data": {
      "text/html": [
       "<div>\n",
       "<style scoped>\n",
       "    .dataframe tbody tr th:only-of-type {\n",
       "        vertical-align: middle;\n",
       "    }\n",
       "\n",
       "    .dataframe tbody tr th {\n",
       "        vertical-align: top;\n",
       "    }\n",
       "\n",
       "    .dataframe thead th {\n",
       "        text-align: right;\n",
       "    }\n",
       "</style>\n",
       "<table border=\"1\" class=\"dataframe\">\n",
       "  <thead>\n",
       "    <tr style=\"text-align: right;\">\n",
       "      <th></th>\n",
       "      <th>order_id</th>\n",
       "      <th>customer_id</th>\n",
       "      <th>product_id</th>\n",
       "      <th>quantity</th>\n",
       "      <th>unit_price</th>\n",
       "      <th>order_date</th>\n",
       "      <th>delivery_status</th>\n",
       "      <th>payment_method</th>\n",
       "      <th>region_x</th>\n",
       "      <th>discount_applied</th>\n",
       "      <th>product_name</th>\n",
       "      <th>category</th>\n",
       "      <th>launch_date</th>\n",
       "      <th>base_price</th>\n",
       "      <th>supplier_code</th>\n",
       "      <th>email</th>\n",
       "      <th>signup_date</th>\n",
       "      <th>gender</th>\n",
       "      <th>region_y</th>\n",
       "      <th>loyalty_tier</th>\n",
       "    </tr>\n",
       "  </thead>\n",
       "  <tbody>\n",
       "    <tr>\n",
       "      <th>0</th>\n",
       "      <td>O966977</td>\n",
       "      <td>C00397</td>\n",
       "      <td>P0022</td>\n",
       "      <td>39.25</td>\n",
       "      <td>39.25</td>\n",
       "      <td>2025-06-07</td>\n",
       "      <td>Delivered</td>\n",
       "      <td>Paypal</td>\n",
       "      <td>Central</td>\n",
       "      <td>0.00</td>\n",
       "      <td>Cleaning Product 86</td>\n",
       "      <td>Cleaning</td>\n",
       "      <td>2024-04-10</td>\n",
       "      <td>19.77</td>\n",
       "      <td>S924</td>\n",
       "      <td>jacquelinemartin@mills-logan.com</td>\n",
       "      <td>2024-08-09</td>\n",
       "      <td>Female</td>\n",
       "      <td>North</td>\n",
       "      <td>Silver</td>\n",
       "    </tr>\n",
       "    <tr>\n",
       "      <th>1</th>\n",
       "      <td>O696648</td>\n",
       "      <td>C00236</td>\n",
       "      <td>P0023</td>\n",
       "      <td>18.92</td>\n",
       "      <td>18.92</td>\n",
       "      <td>2025-06-07</td>\n",
       "      <td>Delayed</td>\n",
       "      <td>Credit Card</td>\n",
       "      <td>North</td>\n",
       "      <td>0.00</td>\n",
       "      <td>Outdoors Product 32</td>\n",
       "      <td>Outdoors</td>\n",
       "      <td>2025-01-18</td>\n",
       "      <td>36.04</td>\n",
       "      <td>S907</td>\n",
       "      <td>georgeweber@morgan.com</td>\n",
       "      <td>2024-06-08</td>\n",
       "      <td>Other</td>\n",
       "      <td>North</td>\n",
       "      <td>Gold</td>\n",
       "    </tr>\n",
       "    <tr>\n",
       "      <th>2</th>\n",
       "      <td>O202644</td>\n",
       "      <td>C00492</td>\n",
       "      <td>P0011</td>\n",
       "      <td>29.68</td>\n",
       "      <td>29.68</td>\n",
       "      <td>2025-06-07</td>\n",
       "      <td>Delivered</td>\n",
       "      <td>Bank Transfer</td>\n",
       "      <td>North</td>\n",
       "      <td>0.15</td>\n",
       "      <td>Kitchen Product 53</td>\n",
       "      <td>Kitchen</td>\n",
       "      <td>2025-03-25</td>\n",
       "      <td>11.08</td>\n",
       "      <td>S645</td>\n",
       "      <td>lcook@walters-smith.com</td>\n",
       "      <td>2024-09-25</td>\n",
       "      <td>Male</td>\n",
       "      <td>Central</td>\n",
       "      <td>Gold</td>\n",
       "    </tr>\n",
       "    <tr>\n",
       "      <th>3</th>\n",
       "      <td>O501803</td>\n",
       "      <td>C00031</td>\n",
       "      <td>P0003</td>\n",
       "      <td>32.76</td>\n",
       "      <td>32.76</td>\n",
       "      <td>2025-06-07</td>\n",
       "      <td>Cancelled</td>\n",
       "      <td>Credit Card</td>\n",
       "      <td>Central</td>\n",
       "      <td>0.20</td>\n",
       "      <td>Cleaning Product 85</td>\n",
       "      <td>Cleaning</td>\n",
       "      <td>2024-07-15</td>\n",
       "      <td>7.92</td>\n",
       "      <td>S745</td>\n",
       "      <td>smoore@gmail.com</td>\n",
       "      <td>2024-07-28</td>\n",
       "      <td>femle</td>\n",
       "      <td>Central</td>\n",
       "      <td>Gold</td>\n",
       "    </tr>\n",
       "    <tr>\n",
       "      <th>4</th>\n",
       "      <td>O322242</td>\n",
       "      <td>C00495</td>\n",
       "      <td>P0016</td>\n",
       "      <td>47.62</td>\n",
       "      <td>47.62</td>\n",
       "      <td>2025-06-07</td>\n",
       "      <td>Delayed</td>\n",
       "      <td>Credit Card</td>\n",
       "      <td>West</td>\n",
       "      <td>0.20</td>\n",
       "      <td>Cleaning Product 53</td>\n",
       "      <td>Cleaning</td>\n",
       "      <td>2025-02-20</td>\n",
       "      <td>26.71</td>\n",
       "      <td>S715</td>\n",
       "      <td>mcclainkatherine@hotmail.com</td>\n",
       "      <td>2024-09-18</td>\n",
       "      <td>male</td>\n",
       "      <td>Central</td>\n",
       "      <td>Gold</td>\n",
       "    </tr>\n",
       "  </tbody>\n",
       "</table>\n",
       "</div>"
      ],
      "text/plain": [
       "  order_id customer_id product_id  quantity  unit_price order_date  \\\n",
       "0  O966977      C00397      P0022     39.25       39.25 2025-06-07   \n",
       "1  O696648      C00236      P0023     18.92       18.92 2025-06-07   \n",
       "2  O202644      C00492      P0011     29.68       29.68 2025-06-07   \n",
       "3  O501803      C00031      P0003     32.76       32.76 2025-06-07   \n",
       "4  O322242      C00495      P0016     47.62       47.62 2025-06-07   \n",
       "\n",
       "  delivery_status payment_method region_x  discount_applied  \\\n",
       "0       Delivered         Paypal  Central              0.00   \n",
       "1         Delayed    Credit Card    North              0.00   \n",
       "2       Delivered  Bank Transfer    North              0.15   \n",
       "3       Cancelled    Credit Card  Central              0.20   \n",
       "4         Delayed    Credit Card     West              0.20   \n",
       "\n",
       "          product_name  category launch_date  base_price supplier_code  \\\n",
       "0  Cleaning Product 86  Cleaning  2024-04-10       19.77          S924   \n",
       "1  Outdoors Product 32  Outdoors  2025-01-18       36.04          S907   \n",
       "2   Kitchen Product 53   Kitchen  2025-03-25       11.08          S645   \n",
       "3  Cleaning Product 85  Cleaning  2024-07-15        7.92          S745   \n",
       "4  Cleaning Product 53  Cleaning  2025-02-20       26.71          S715   \n",
       "\n",
       "                              email signup_date  gender region_y loyalty_tier  \n",
       "0  jacquelinemartin@mills-logan.com  2024-08-09  Female    North       Silver  \n",
       "1            georgeweber@morgan.com  2024-06-08   Other    North         Gold  \n",
       "2           lcook@walters-smith.com  2024-09-25    Male  Central         Gold  \n",
       "3                  smoore@gmail.com  2024-07-28   femle  Central         Gold  \n",
       "4      mcclainkatherine@hotmail.com  2024-09-18    male  Central         Gold  "
      ]
     },
     "execution_count": 127,
     "metadata": {},
     "output_type": "execute_result"
    }
   ],
   "source": [
    "merged_df.info()\n",
    "merged_df.head()"
   ]
  },
  {
   "cell_type": "code",
   "execution_count": 129,
   "id": "78d8ccd3-12b3-43f8-854d-daae0f69fd2d",
   "metadata": {},
   "outputs": [],
   "source": [
    "merged_df['revenue'] = merged_df['quantity'] * merged_df['unit_price'] * (1 - merged_df['discount_applied'])"
   ]
  },
  {
   "cell_type": "code",
   "execution_count": 135,
   "id": "749f9284-180c-4535-a373-eb78e8fbf6e5",
   "metadata": {},
   "outputs": [],
   "source": [
    "merged_df['order_week'] = merged_df['order_date'].dt.isocalendar().week"
   ]
  },
  {
   "cell_type": "code",
   "execution_count": 139,
   "id": "66977c73-29c7-4b13-b737-c285b99138cd",
   "metadata": {},
   "outputs": [],
   "source": [
    "merged_df['price_band'] = pd.cut(\n",
    "    merged_df['unit_price'],\n",
    "    bins=[-1, 15, 30, float('inf')],\n",
    "    labels=[\"Low\", \"Medium\", \"High\"]\n",
    ")"
   ]
  },
  {
   "cell_type": "code",
   "execution_count": 143,
   "id": "b82d513c-5e35-4543-b73e-d49913a22ad2",
   "metadata": {},
   "outputs": [],
   "source": [
    "merged_df['days_to_order'] = (merged_df['order_date'] - merged_df['launch_date']).dt.days"
   ]
  },
  {
   "cell_type": "code",
   "execution_count": 145,
   "id": "38de704a-8813-494d-bda7-da4293e9991e",
   "metadata": {},
   "outputs": [],
   "source": [
    "merged_df['email_domain'] = merged_df['email'].str.extract(r'@(.+)$')"
   ]
  },
  {
   "cell_type": "code",
   "execution_count": 147,
   "id": "659cf239-1278-4730-ab7d-1f15a7f16d0e",
   "metadata": {},
   "outputs": [],
   "source": [
    "merged_df['is_late'] = merged_df['delivery_status'] == \"Delayed\""
   ]
  },
  {
   "cell_type": "code",
   "execution_count": 164,
   "id": "7ab69b28-c241-4ebc-a663-4ecede21334f",
   "metadata": {},
   "outputs": [
    {
     "name": "stdout",
     "output_type": "stream",
     "text": [
      "Index(['order_id', 'customer_id', 'product_id', 'quantity', 'unit_price',\n",
      "       'order_date', 'delivery_status', 'payment_method', 'region_x',\n",
      "       'discount_applied', 'product_name', 'category', 'launch_date',\n",
      "       'base_price', 'supplier_code', 'email', 'signup_date', 'gender',\n",
      "       'region_y', 'loyalty_tier', 'revenue', 'order_week', 'price_band',\n",
      "       'days_to_order', 'email_domain', 'is_late'],\n",
      "      dtype='object')\n"
     ]
    }
   ],
   "source": [
    "print(merged_df.columns)"
   ]
  },
  {
   "cell_type": "code",
   "execution_count": 166,
   "id": "82b7eeae-1bd2-4e67-8b39-cbe111416bd4",
   "metadata": {},
   "outputs": [],
   "source": [
    "merged_df['region'] = merged_df['region_x'].str.strip().str.title()"
   ]
  },
  {
   "cell_type": "code",
   "execution_count": 186,
   "id": "4d854891-6ff7-4226-ac32-2376ad72cab8",
   "metadata": {},
   "outputs": [],
   "source": [
    "merged_df['region'] = merged_df['region'].replace({\n",
    "    'Nrth': 'North'\n",
    "})"
   ]
  },
  {
   "cell_type": "code",
   "execution_count": 188,
   "id": "539fa018-a68e-4a59-9019-9aae993e7561",
   "metadata": {},
   "outputs": [
    {
     "data": {
      "text/html": [
       "<div>\n",
       "<style scoped>\n",
       "    .dataframe tbody tr th:only-of-type {\n",
       "        vertical-align: middle;\n",
       "    }\n",
       "\n",
       "    .dataframe tbody tr th {\n",
       "        vertical-align: top;\n",
       "    }\n",
       "\n",
       "    .dataframe thead th {\n",
       "        text-align: right;\n",
       "    }\n",
       "</style>\n",
       "<table border=\"1\" class=\"dataframe\">\n",
       "  <thead>\n",
       "    <tr style=\"text-align: right;\">\n",
       "      <th></th>\n",
       "      <th>order_week</th>\n",
       "      <th>region</th>\n",
       "      <th>revenue</th>\n",
       "    </tr>\n",
       "  </thead>\n",
       "  <tbody>\n",
       "    <tr>\n",
       "      <th>0</th>\n",
       "      <td>23</td>\n",
       "      <td>Central</td>\n",
       "      <td>526560.357365</td>\n",
       "    </tr>\n",
       "    <tr>\n",
       "      <th>1</th>\n",
       "      <td>23</td>\n",
       "      <td>East</td>\n",
       "      <td>544026.179445</td>\n",
       "    </tr>\n",
       "    <tr>\n",
       "      <th>2</th>\n",
       "      <td>23</td>\n",
       "      <td>North</td>\n",
       "      <td>551988.213850</td>\n",
       "    </tr>\n",
       "    <tr>\n",
       "      <th>3</th>\n",
       "      <td>23</td>\n",
       "      <td>South</td>\n",
       "      <td>549752.098850</td>\n",
       "    </tr>\n",
       "    <tr>\n",
       "      <th>4</th>\n",
       "      <td>23</td>\n",
       "      <td>West</td>\n",
       "      <td>526072.367215</td>\n",
       "    </tr>\n",
       "  </tbody>\n",
       "</table>\n",
       "</div>"
      ],
      "text/plain": [
       "   order_week   region        revenue\n",
       "0          23  Central  526560.357365\n",
       "1          23     East  544026.179445\n",
       "2          23    North  551988.213850\n",
       "3          23    South  549752.098850\n",
       "4          23     West  526072.367215"
      ]
     },
     "execution_count": 188,
     "metadata": {},
     "output_type": "execute_result"
    }
   ],
   "source": [
    "weekly_region_revenue = merged_df.groupby(['order_week', 'region'])['revenue'].sum().reset_index()\n",
    "weekly_region_revenue.head()"
   ]
  },
  {
   "cell_type": "code",
   "execution_count": 190,
   "id": "58643df9-3db7-45c9-952c-f831fb25b5e2",
   "metadata": {},
   "outputs": [
    {
     "data": {
      "text/html": [
       "<div>\n",
       "<style scoped>\n",
       "    .dataframe tbody tr th:only-of-type {\n",
       "        vertical-align: middle;\n",
       "    }\n",
       "\n",
       "    .dataframe tbody tr th {\n",
       "        vertical-align: top;\n",
       "    }\n",
       "\n",
       "    .dataframe thead th {\n",
       "        text-align: right;\n",
       "    }\n",
       "</style>\n",
       "<table border=\"1\" class=\"dataframe\">\n",
       "  <thead>\n",
       "    <tr style=\"text-align: right;\">\n",
       "      <th>region</th>\n",
       "      <th>Central</th>\n",
       "      <th>East</th>\n",
       "      <th>North</th>\n",
       "      <th>South</th>\n",
       "      <th>West</th>\n",
       "    </tr>\n",
       "    <tr>\n",
       "      <th>order_week</th>\n",
       "      <th></th>\n",
       "      <th></th>\n",
       "      <th></th>\n",
       "      <th></th>\n",
       "      <th></th>\n",
       "    </tr>\n",
       "  </thead>\n",
       "  <tbody>\n",
       "    <tr>\n",
       "      <th>23</th>\n",
       "      <td>526560.357365</td>\n",
       "      <td>544026.179445</td>\n",
       "      <td>551988.21385</td>\n",
       "      <td>549752.09885</td>\n",
       "      <td>526072.367215</td>\n",
       "    </tr>\n",
       "  </tbody>\n",
       "</table>\n",
       "</div>"
      ],
      "text/plain": [
       "region            Central           East         North         South  \\\n",
       "order_week                                                             \n",
       "23          526560.357365  544026.179445  551988.21385  549752.09885   \n",
       "\n",
       "region               West  \n",
       "order_week                 \n",
       "23          526072.367215  "
      ]
     },
     "execution_count": 190,
     "metadata": {},
     "output_type": "execute_result"
    }
   ],
   "source": [
    "weekly_region_pivot = weekly_region_revenue.pivot(index='order_week', columns='region', values='revenue')\n",
    "weekly_region_pivot.head()"
   ]
  },
  {
   "cell_type": "code",
   "execution_count": 192,
   "id": "56404cc3-288a-489e-b47a-0b7e5519547c",
   "metadata": {},
   "outputs": [
    {
     "data": {
      "text/html": [
       "<div>\n",
       "<style scoped>\n",
       "    .dataframe tbody tr th:only-of-type {\n",
       "        vertical-align: middle;\n",
       "    }\n",
       "\n",
       "    .dataframe tbody tr th {\n",
       "        vertical-align: top;\n",
       "    }\n",
       "\n",
       "    .dataframe thead th {\n",
       "        text-align: right;\n",
       "    }\n",
       "</style>\n",
       "<table border=\"1\" class=\"dataframe\">\n",
       "  <thead>\n",
       "    <tr style=\"text-align: right;\">\n",
       "      <th></th>\n",
       "      <th>category</th>\n",
       "      <th>revenue</th>\n",
       "      <th>quantity</th>\n",
       "      <th>discount_applied</th>\n",
       "    </tr>\n",
       "  </thead>\n",
       "  <tbody>\n",
       "    <tr>\n",
       "      <th>0</th>\n",
       "      <td>Cleaning</td>\n",
       "      <td>1.059421e+06</td>\n",
       "      <td>34447.27</td>\n",
       "      <td>0.085685</td>\n",
       "    </tr>\n",
       "    <tr>\n",
       "      <th>1</th>\n",
       "      <td>Kitchen</td>\n",
       "      <td>3.879881e+05</td>\n",
       "      <td>11982.56</td>\n",
       "      <td>0.075622</td>\n",
       "    </tr>\n",
       "    <tr>\n",
       "      <th>2</th>\n",
       "      <td>Outdoors</td>\n",
       "      <td>4.548850e+05</td>\n",
       "      <td>14632.96</td>\n",
       "      <td>0.082016</td>\n",
       "    </tr>\n",
       "    <tr>\n",
       "      <th>3</th>\n",
       "      <td>Personal Care</td>\n",
       "      <td>2.812782e+05</td>\n",
       "      <td>8982.56</td>\n",
       "      <td>0.086755</td>\n",
       "    </tr>\n",
       "    <tr>\n",
       "      <th>4</th>\n",
       "      <td>Storage</td>\n",
       "      <td>5.141322e+05</td>\n",
       "      <td>16557.87</td>\n",
       "      <td>0.080763</td>\n",
       "    </tr>\n",
       "  </tbody>\n",
       "</table>\n",
       "</div>"
      ],
      "text/plain": [
       "        category       revenue  quantity  discount_applied\n",
       "0       Cleaning  1.059421e+06  34447.27          0.085685\n",
       "1        Kitchen  3.879881e+05  11982.56          0.075622\n",
       "2       Outdoors  4.548850e+05  14632.96          0.082016\n",
       "3  Personal Care  2.812782e+05   8982.56          0.086755\n",
       "4        Storage  5.141322e+05  16557.87          0.080763"
      ]
     },
     "execution_count": 192,
     "metadata": {},
     "output_type": "execute_result"
    }
   ],
   "source": [
    "category_perf = merged_df.groupby('category').agg({\n",
    "    'revenue': 'sum',\n",
    "    'quantity': 'sum',\n",
    "    'discount_applied': 'mean'\n",
    "}).reset_index()\n",
    "category_perf.head()                                       "
   ]
  },
  {
   "cell_type": "code",
   "execution_count": 196,
   "id": "94c1b6c5-06d8-4bfa-ade7-0491fdf4b899",
   "metadata": {},
   "outputs": [],
   "source": [
    "merged_df['signup_month'] = merged_df['signup_date'].dt.to_period('M')"
   ]
  },
  {
   "cell_type": "code",
   "execution_count": 200,
   "id": "969ca96f-adab-47dd-bcc0-70539de2a738",
   "metadata": {},
   "outputs": [
    {
     "data": {
      "text/plain": [
       "<bound method NDFrame.head of    loyalty_tier signup_month       revenue  num_orders\n",
       "0         Brnze      2024-07   8372.698635           8\n",
       "1         Brnze      2025-04   4204.306085           3\n",
       "2        Bronze      2024-01   8732.578005          10\n",
       "3        Bronze      2024-02  22105.645670          23\n",
       "4        Bronze      2024-03  12176.015225          11\n",
       "..          ...          ...           ...         ...\n",
       "69       Silver      2025-10  12823.844770          10\n",
       "70       Silver      2025-12   6058.770720          12\n",
       "71       Sllver      2025-02   5271.087400           6\n",
       "72      Unknown      2025-02   3309.158130           6\n",
       "73      Unknown      2025-05   3142.085520           3\n",
       "\n",
       "[74 rows x 4 columns]>"
      ]
     },
     "execution_count": 200,
     "metadata": {},
     "output_type": "execute_result"
    }
   ],
   "source": [
    "customer_behaviour = merged_df.groupby(['loyalty_tier', 'signup_month']).agg({\n",
    "    'revenue': 'sum',\n",
    "    'order_id': 'nunique'\n",
    "}).rename(columns={'order_id': 'num_orders'}).reset_index()\n",
    "customer_behaviour.head"
   ]
  },
  {
   "cell_type": "code",
   "execution_count": 208,
   "id": "775b6365-d45d-4647-aa9b-a63ec607b108",
   "metadata": {},
   "outputs": [
    {
     "data": {
      "text/html": [
       "<div>\n",
       "<style scoped>\n",
       "    .dataframe tbody tr th:only-of-type {\n",
       "        vertical-align: middle;\n",
       "    }\n",
       "\n",
       "    .dataframe tbody tr th {\n",
       "        vertical-align: top;\n",
       "    }\n",
       "\n",
       "    .dataframe thead th {\n",
       "        text-align: right;\n",
       "    }\n",
       "</style>\n",
       "<table border=\"1\" class=\"dataframe\">\n",
       "  <thead>\n",
       "    <tr style=\"text-align: right;\">\n",
       "      <th></th>\n",
       "      <th>region</th>\n",
       "      <th>price_band</th>\n",
       "      <th>late_rate</th>\n",
       "      <th>num_orders</th>\n",
       "    </tr>\n",
       "  </thead>\n",
       "  <tbody>\n",
       "    <tr>\n",
       "      <th>0</th>\n",
       "      <td>Central</td>\n",
       "      <td>Low</td>\n",
       "      <td>0.38</td>\n",
       "      <td>113</td>\n",
       "    </tr>\n",
       "    <tr>\n",
       "      <th>1</th>\n",
       "      <td>Central</td>\n",
       "      <td>Medium</td>\n",
       "      <td>0.39</td>\n",
       "      <td>225</td>\n",
       "    </tr>\n",
       "    <tr>\n",
       "      <th>2</th>\n",
       "      <td>Central</td>\n",
       "      <td>High</td>\n",
       "      <td>0.39</td>\n",
       "      <td>265</td>\n",
       "    </tr>\n",
       "    <tr>\n",
       "      <th>3</th>\n",
       "      <td>East</td>\n",
       "      <td>Low</td>\n",
       "      <td>0.42</td>\n",
       "      <td>96</td>\n",
       "    </tr>\n",
       "    <tr>\n",
       "      <th>4</th>\n",
       "      <td>East</td>\n",
       "      <td>Medium</td>\n",
       "      <td>0.42</td>\n",
       "      <td>238</td>\n",
       "    </tr>\n",
       "  </tbody>\n",
       "</table>\n",
       "</div>"
      ],
      "text/plain": [
       "    region price_band  late_rate  num_orders\n",
       "0  Central        Low       0.38         113\n",
       "1  Central     Medium       0.39         225\n",
       "2  Central       High       0.39         265\n",
       "3     East        Low       0.42          96\n",
       "4     East     Medium       0.42         238"
      ]
     },
     "execution_count": 208,
     "metadata": {},
     "output_type": "execute_result"
    }
   ],
   "source": [
    "delivery_perf = merged_df.groupby(['region', 'price_band'], observed=True).agg({\n",
    "    'is_late': 'mean',\n",
    "    'order_id': 'count'\n",
    "}).rename(columns={'is_late': 'late_rate', 'order_id': 'num_orders'}).reset_index()\n",
    "delivery_perf['late_rate'] = delivery_perf['late_rate'].round(2)\n",
    "delivery_perf.head()"
   ]
  },
  {
   "cell_type": "code",
   "execution_count": 216,
   "id": "03614b57-cf76-4450-bd10-6747346da5fe",
   "metadata": {},
   "outputs": [
    {
     "data": {
      "text/html": [
       "<div>\n",
       "<style scoped>\n",
       "    .dataframe tbody tr th:only-of-type {\n",
       "        vertical-align: middle;\n",
       "    }\n",
       "\n",
       "    .dataframe tbody tr th {\n",
       "        vertical-align: top;\n",
       "    }\n",
       "\n",
       "    .dataframe thead th {\n",
       "        text-align: right;\n",
       "    }\n",
       "</style>\n",
       "<table border=\"1\" class=\"dataframe\">\n",
       "  <thead>\n",
       "    <tr style=\"text-align: right;\">\n",
       "      <th></th>\n",
       "      <th>loyalty_tier</th>\n",
       "      <th>payment_method</th>\n",
       "      <th>num_orders</th>\n",
       "    </tr>\n",
       "  </thead>\n",
       "  <tbody>\n",
       "    <tr>\n",
       "      <th>0</th>\n",
       "      <td>Brnze</td>\n",
       "      <td>Bank Transfer</td>\n",
       "      <td>2</td>\n",
       "    </tr>\n",
       "    <tr>\n",
       "      <th>1</th>\n",
       "      <td>Brnze</td>\n",
       "      <td>Credit Card</td>\n",
       "      <td>5</td>\n",
       "    </tr>\n",
       "    <tr>\n",
       "      <th>2</th>\n",
       "      <td>Brnze</td>\n",
       "      <td>Paypal</td>\n",
       "      <td>4</td>\n",
       "    </tr>\n",
       "    <tr>\n",
       "      <th>3</th>\n",
       "      <td>Bronze</td>\n",
       "      <td>Bank Transfer</td>\n",
       "      <td>178</td>\n",
       "    </tr>\n",
       "    <tr>\n",
       "      <th>4</th>\n",
       "      <td>Bronze</td>\n",
       "      <td>Credit Card</td>\n",
       "      <td>278</td>\n",
       "    </tr>\n",
       "  </tbody>\n",
       "</table>\n",
       "</div>"
      ],
      "text/plain": [
       "  loyalty_tier payment_method  num_orders\n",
       "0        Brnze  Bank Transfer           2\n",
       "1        Brnze    Credit Card           5\n",
       "2        Brnze         Paypal           4\n",
       "3       Bronze  Bank Transfer         178\n",
       "4       Bronze    Credit Card         278"
      ]
     },
     "execution_count": 216,
     "metadata": {},
     "output_type": "execute_result"
    }
   ],
   "source": [
    "payment_pref = merged_df.groupby(['loyalty_tier', 'payment_method'])['order_id'].count().reset_index()\n",
    "payment_pref = payment_pref.rename(columns={'order_id': 'num_orders'})\n",
    "payment_pref.head()"
   ]
  },
  {
   "cell_type": "code",
   "execution_count": 294,
   "id": "0f744973-7475-4cfd-8c62-1adec4d3cb7c",
   "metadata": {},
   "outputs": [],
   "source": [
    "import matplotlib.pyplot as plt\n",
    "import seaborn as sns"
   ]
  },
  {
   "cell_type": "code",
   "execution_count": 296,
   "id": "49e145fb-9ab6-4252-a002-4ec6ee0791a3",
   "metadata": {},
   "outputs": [],
   "source": [
    "plt.style.use=('seaborn-whitegrid')\n",
    "sns.set_theme(\n",
    "        context='notebook',\n",
    "        style='whitegrid',\n",
    "        palette='muted',\n",
    ")   "
   ]
  },
  {
   "cell_type": "code",
   "execution_count": 398,
   "id": "580121df-7790-4265-beb6-d02670df8ea2",
   "metadata": {},
   "outputs": [
    {
     "data": {
      "text/plain": [
       "<Figure size 1200x600 with 0 Axes>"
      ]
     },
     "metadata": {},
     "output_type": "display_data"
    },
    {
     "data": {
      "image/png": "[encoded data removed]",
      "text/plain": [
       "<Figure size 640x480 with 1 Axes>"
      ]
     },
     "metadata": {},
     "output_type": "display_data"
    }
   ],
   "source": [
    "plt.figure(figsize=(12, 6))\n",
    "weekly_region_pivot.plot(marker='o')\n",
    "plt.title('Weekly Revenue Trends by Region')\n",
    "plt.xlabel('Order Week')\n",
    "plt.ylabel('Revenue (£)')\n",
    "plt.legend(title='Region', frameon=False)\n",
    "plt.grid(axis='y', linestyle='--', alpha=0.5)\n",
    "plt.tight_layout()\n",
    "plt.savefig(\"chart 2.png\")\n",
    "plt.show()"
   ]
  },
  {
   "cell_type": "code",
   "execution_count": 300,
   "id": "c6ef6d4f-5347-489b-ada3-f36faee16633",
   "metadata": {},
   "outputs": [],
   "source": [
    "top_categories = merged_df.groupby('category')['revenue'].sum().nlargest(5).reset_index()"
   ]
  },
  {
   "cell_type": "code",
   "execution_count": 310,
   "id": "fcd193e8-dea1-4767-910e-6ec7462ba29c",
   "metadata": {},
   "outputs": [
    {
     "data": {
      "image/png": "[encoded data removed]",
      "text/plain": [
       "<Figure size 800x500 with 1 Axes>"
      ]
     },
     "metadata": {},
     "output_type": "display_data"
    }
   ],
   "source": [
    "plt.figure(figsize=(8, 5))\n",
    "sns.barplot(data=top_categories, x='category', y='revenue', hue='category', palette='viridis', legend=False)\n",
    "plt.title('Top 5 Product Categories by Revenue', fontsize=14, fontweight='bold')\n",
    "plt.xlabel('Category')\n",
    "plt.ylabel('Revenue (£)')\n",
    "plt.xticks(rotation=30)\n",
    "plt.tight_layout()\n",
    "plt.show()"
   ]
  },
  {
   "cell_type": "code",
   "execution_count": 328,
   "id": "02f056a6-c6c9-4b63-b441-07849a10af9f",
   "metadata": {},
   "outputs": [
    {
     "data": {
      "image/png": "[encoded data removed]",
      "text/plain": [
       "<Figure size 1200x700 with 1 Axes>"
      ]
     },
     "metadata": {},
     "output_type": "display_data"
    }
   ],
   "source": [
    "plt.figure(figsize=(12, 7))\n",
    "sns.boxplot(\n",
    "    data=merged_df, \n",
    "    x='category', \n",
    "    y='discount_applied',\n",
    "    color='#50c878',\n",
    "    width=0.6,\n",
    "    fliersize=2,\n",
    "    linewidth=1.5\n",
    ")\n",
    "plt.title('Discount Distribution Across Categories', fontsize=16, fontweight='bold')\n",
    "plt.xlabel('Category')\n",
    "plt.ylabel('Discount (%)')\n",
    "plt.xticks(rotation=20)\n",
    "plt.yticks(fontsize=10)\n",
    "plt.grid(axis='y', linestyle='--', alpha=0.6)\n",
    "plt.tight_layout()\n",
    "plt.show()"
   ]
  },
  {
   "cell_type": "code",
   "execution_count": 394,
   "id": "441b07c6-c60d-401d-982d-70eed523ab24",
   "metadata": {
    "scrolled": true
   },
   "outputs": [
    {
     "data": {
      "image/png": "[encoded data removed]",
      "text/plain": [
       "<Figure size 600x500 with 2 Axes>"
      ]
     },
     "metadata": {},
     "output_type": "display_data"
    }
   ],
   "source": [
    "plt.figure(figsize=(6, 5))\n",
    "corr_data = merged_df[['revenue', 'discount_applied', 'quantity']].corr()\n",
    "sns.heatmap(corr_data, annot=True, cmap='coolwarm', fmt=\".2f\")\n",
    "plt.title('Correlation Matrix')\n",
    "plt.tight_layout()\n",
    "plt.savefig(\"chart.png\")\n",
    "plt.show()"
   ]
  },
  {
   "cell_type": "code",
   "execution_count": 330,
   "id": "8ed66ed3-56ba-4397-b978-e097824922e8",
   "metadata": {},
   "outputs": [],
   "source": [
    "merged_df['loyalty_tier'] = merged_df['loyalty_tier'].replace({\n",
    "    'Sllver': 'Silver',\n",
    "    'Gld': 'Gold',\n",
    "    'Brnze': 'Bronze'\n",
    "})"
   ]
  },
  {
   "cell_type": "code",
   "execution_count": 364,
   "id": "27c082bf-eb39-4f56-ae11-440fa2afc84c",
   "metadata": {},
   "outputs": [],
   "source": [
    "filtered_df = merged_df[merged_df['loyalty_tier'] != 'Unknown'].copy()\n",
    "\n",
    "from pandas.api.types import CategoricalDtype\n",
    "\n",
    "loyalty_order = CategoricalDtype(categories=['Bronze', 'Silver', 'Gold'], ordered=True)\n",
    "\n",
    "filtered_df['loyalty_tier'] = filtered_df['loyalty_tier'].astype(loyalty_order)"
   ]
  },
  {
   "cell_type": "code",
   "execution_count": 366,
   "id": "5804ae34-a079-43eb-8e34-c50206c81e6c",
   "metadata": {},
   "outputs": [
    {
     "data": {
      "image/png": "[encoded data removed]",
      "text/plain": [
       "<Figure size 1000x600 with 1 Axes>"
      ]
     },
     "metadata": {},
     "output_type": "display_data"
    }
   ],
   "source": [
    "plt.figure(figsize=(10, 6))\n",
    "sns.countplot(\n",
    "    data=merged_df, \n",
    "    x='loyalty_tier', \n",
    "    hue='region',\n",
    "    palette='muted',\n",
    "    edgecolor='black'\n",
    ")\n",
    "plt.title('Order Counts by Loyalty Tier and Region', fontsize=15, fontweight='bold')\n",
    "plt.xlabel('Loyalty Tier')\n",
    "plt.ylabel('Number of Orders')\n",
    "plt.legend(title='Region', bbox_to_anchor=(1.05, 1), loc='upper left', frameon=False)\n",
    "plt.grid(axis='y', linestyle='--', alpha=0.4)\n",
    "plt.tight_layout()\n",
    "plt.show()"
   ]
  },
  {
   "cell_type": "code",
   "execution_count": 254,
   "id": "33e4bd1f-4208-4e58-8bfd-a77edee6b795",
   "metadata": {},
   "outputs": [],
   "source": [
    "merged_df['delivery_status'] = merged_df['delivery_status'].replace({\n",
    "    'Delrd': 'Delayed',\n",
    "    'Delyd': 'Delayed',\n",
    "    'Dlivered': 'Delivered',\n",
    "    'Cancelld': 'Cancelled'\n",
    "})"
   ]
  },
  {
   "cell_type": "code",
   "execution_count": 400,
   "id": "bcdec56b-da75-4d32-8f34-4df815809819",
   "metadata": {
    "scrolled": true
   },
   "outputs": [
    {
     "data": {
      "image/png": "[encoded data removed]",
      "text/plain": [
       "<Figure size 1000x600 with 1 Axes>"
      ]
     },
     "metadata": {},
     "output_type": "display_data"
    }
   ],
   "source": [
    "status_colors = {\n",
    "    'Delivered': '#50c878',\n",
    "    'Delated': '#ffa600',\n",
    "    'Cancelled': '#bac5090'\n",
    "}\n",
    "colors = [status_colors.get(col, '#7f7f7f') for col in delivery_stack.columns]\n",
    "delivery_stack = merged_df.groupby(\n",
    "    ['region', 'delivery_status'], observed=True\n",
    ")['order_id'].count().unstack().fillna(0)\n",
    "delivery_stack.plot(kind='bar', stacked=True, figsize=(10, 6), edgecolor='black')\n",
    "plt.title('Delivery Status by Region', fontsize=15, fontweight='bold')\n",
    "plt.xlabel('Region')\n",
    "plt.ylabel('Number of Orders')\n",
    "plt.xticks(rotation=0)\n",
    "plt.legend(title='Delivery Status')\n",
    "plt.tight_layout()\n",
    "plt.savefig(\"chart 1.png\")\n",
    "plt.show()"
   ]
  },
  {
   "cell_type": "code",
   "execution_count": 376,
   "id": "fbf66311-a1dc-4086-bd08-6d02e0a48102",
   "metadata": {},
   "outputs": [
    {
     "data": {
      "text/html": [
       "<div>\n",
       "<style scoped>\n",
       "    .dataframe tbody tr th:only-of-type {\n",
       "        vertical-align: middle;\n",
       "    }\n",
       "\n",
       "    .dataframe tbody tr th {\n",
       "        vertical-align: top;\n",
       "    }\n",
       "\n",
       "    .dataframe thead th {\n",
       "        text-align: right;\n",
       "    }\n",
       "</style>\n",
       "<table border=\"1\" class=\"dataframe\">\n",
       "  <thead>\n",
       "    <tr style=\"text-align: right;\">\n",
       "      <th>region</th>\n",
       "      <th>Central</th>\n",
       "      <th>East</th>\n",
       "      <th>North</th>\n",
       "      <th>South</th>\n",
       "      <th>West</th>\n",
       "    </tr>\n",
       "    <tr>\n",
       "      <th>category</th>\n",
       "      <th></th>\n",
       "      <th></th>\n",
       "      <th></th>\n",
       "      <th></th>\n",
       "      <th></th>\n",
       "    </tr>\n",
       "  </thead>\n",
       "  <tbody>\n",
       "    <tr>\n",
       "      <th>Cleaning</th>\n",
       "      <td>195308.0</td>\n",
       "      <td>223502.0</td>\n",
       "      <td>223647.0</td>\n",
       "      <td>212774.0</td>\n",
       "      <td>204191.0</td>\n",
       "    </tr>\n",
       "    <tr>\n",
       "      <th>Storage</th>\n",
       "      <td>103511.0</td>\n",
       "      <td>112499.0</td>\n",
       "      <td>95133.0</td>\n",
       "      <td>94915.0</td>\n",
       "      <td>108074.0</td>\n",
       "    </tr>\n",
       "    <tr>\n",
       "      <th>Outdoors</th>\n",
       "      <td>94323.0</td>\n",
       "      <td>80975.0</td>\n",
       "      <td>99233.0</td>\n",
       "      <td>102829.0</td>\n",
       "      <td>77526.0</td>\n",
       "    </tr>\n",
       "    <tr>\n",
       "      <th>Kitchen</th>\n",
       "      <td>77534.0</td>\n",
       "      <td>69998.0</td>\n",
       "      <td>73190.0</td>\n",
       "      <td>86653.0</td>\n",
       "      <td>80613.0</td>\n",
       "    </tr>\n",
       "    <tr>\n",
       "      <th>Personal Care</th>\n",
       "      <td>59715.0</td>\n",
       "      <td>56723.0</td>\n",
       "      <td>60260.0</td>\n",
       "      <td>51439.0</td>\n",
       "      <td>53141.0</td>\n",
       "    </tr>\n",
       "  </tbody>\n",
       "</table>\n",
       "</div>"
      ],
      "text/plain": [
       "region          Central      East     North     South      West\n",
       "category                                                       \n",
       "Cleaning       195308.0  223502.0  223647.0  212774.0  204191.0\n",
       "Storage        103511.0  112499.0   95133.0   94915.0  108074.0\n",
       "Outdoors        94323.0   80975.0   99233.0  102829.0   77526.0\n",
       "Kitchen         77534.0   69998.0   73190.0   86653.0   80613.0\n",
       "Personal Care   59715.0   56723.0   60260.0   51439.0   53141.0"
      ]
     },
     "execution_count": 376,
     "metadata": {},
     "output_type": "execute_result"
    }
   ],
   "source": [
    "category_region = merged_df.pivot_table(\n",
    "    index='category',\n",
    "    columns='region',\n",
    "    values='revenue',\n",
    "    aggfunc='sum'\n",
    ").fillna(0).round(0)\n",
    "\n",
    "category_region.loc[['Cleaning', 'Storage', 'Outdoors', 'Kitchen', 'Personal Care']]"
   ]
  },
  {
   "cell_type": "code",
   "execution_count": 380,
   "id": "62328071-2bb3-4fe7-93a3-3e271295d959",
   "metadata": {},
   "outputs": [
    {
     "data": {
      "text/html": [
       "<div>\n",
       "<style scoped>\n",
       "    .dataframe tbody tr th:only-of-type {\n",
       "        vertical-align: middle;\n",
       "    }\n",
       "\n",
       "    .dataframe tbody tr th {\n",
       "        vertical-align: top;\n",
       "    }\n",
       "\n",
       "    .dataframe thead th {\n",
       "        text-align: right;\n",
       "    }\n",
       "</style>\n",
       "<table border=\"1\" class=\"dataframe\">\n",
       "  <thead>\n",
       "    <tr style=\"text-align: right;\">\n",
       "      <th></th>\n",
       "      <th>discount_applied</th>\n",
       "      <th>quantity</th>\n",
       "      <th>revenue</th>\n",
       "    </tr>\n",
       "  </thead>\n",
       "  <tbody>\n",
       "    <tr>\n",
       "      <th>discount_applied</th>\n",
       "      <td>1.000000</td>\n",
       "      <td>0.014395</td>\n",
       "      <td>-0.094257</td>\n",
       "    </tr>\n",
       "    <tr>\n",
       "      <th>quantity</th>\n",
       "      <td>0.014395</td>\n",
       "      <td>1.000000</td>\n",
       "      <td>0.973556</td>\n",
       "    </tr>\n",
       "    <tr>\n",
       "      <th>revenue</th>\n",
       "      <td>-0.094257</td>\n",
       "      <td>0.973556</td>\n",
       "      <td>1.000000</td>\n",
       "    </tr>\n",
       "  </tbody>\n",
       "</table>\n",
       "</div>"
      ],
      "text/plain": [
       "                  discount_applied  quantity   revenue\n",
       "discount_applied          1.000000  0.014395 -0.094257\n",
       "quantity                  0.014395  1.000000  0.973556\n",
       "revenue                  -0.094257  0.973556  1.000000"
      ]
     },
     "execution_count": 380,
     "metadata": {},
     "output_type": "execute_result"
    }
   ],
   "source": [
    "merged_df[['discount_applied', 'quantity', 'revenue']].corr()"
   ]
  },
  {
   "cell_type": "code",
   "execution_count": 384,
   "id": "6980f199-70cc-4975-81df-37f820dd5456",
   "metadata": {},
   "outputs": [
    {
     "name": "stdout",
     "output_type": "stream",
     "text": [
      "                revenue   num_orders\n",
      "loyalty_tier                        \n",
      "Gold          1539316.0         1677\n",
      "Silver         581085.0          659\n",
      "Bronze         561496.0          627\n",
      "Unspecified      6451.0            9\n"
     ]
    }
   ],
   "source": [
    "loyalty_summary = merged_df.groupby('loyalty_tier').agg({\n",
    "    'revenue': 'sum',\n",
    "    'order_id': 'nunique'\n",
    "}).rename(columns={'order_id': ' num_orders'}).round(0).sort_values(by='revenue', ascending=False)\n",
    "\n",
    "print(loyalty_summary)"
   ]
  },
  {
   "cell_type": "code",
   "execution_count": 388,
   "id": "77b3c214-2d1d-4a20-8321-8fb1b7b5c215",
   "metadata": {},
   "outputs": [
    {
     "name": "stdout",
     "output_type": "stream",
     "text": [
      "         late_rate  total_orders\n",
      "region                          \n",
      "East          0.42           601\n",
      "Central       0.39           603\n",
      "North         0.39           605\n",
      "South         0.39           596\n",
      "West          0.37           591\n"
     ]
    }
   ],
   "source": [
    "delay_by_region = merged_df.groupby('region').agg(\n",
    "    late_rate=('is_late', 'mean'),\n",
    "    total_orders=('order_id', 'count')\n",
    ").round(2).sort_values(by='late_rate', ascending=False)\n",
    "\n",
    "print(delay_by_region)"
   ]
  },
  {
   "cell_type": "code",
   "execution_count": 392,
   "id": "df7ba3d5-dd75-4f52-8f81-b703279fca6a",
   "metadata": {},
   "outputs": [
    {
     "name": "stdout",
     "output_type": "stream",
     "text": [
      "  signup_month loyalty_tier  revenue  num_orders\n",
      "0      2024-01       Bronze   8733.0          10\n",
      "1      2024-01         Gold  25355.0          25\n",
      "2      2024-01       Silver  12991.0          16\n",
      "3      2024-02       Bronze  22106.0          23\n",
      "4      2024-02         Gold  13241.0          15\n",
      "5      2024-02       Silver   5889.0           6\n",
      "6      2024-03       Bronze  12176.0          11\n",
      "7      2024-03         Gold  10423.0          11\n",
      "8      2024-03       Silver  15496.0          23\n",
      "9      2024-04       Bronze    627.0           1\n"
     ]
    }
   ],
   "source": [
    "merged_df['signup_month'] = merged_df['signup_date'].dt.to_period('M')\n",
    "signup_summary = merged_df.groupby(['signup_month', 'loyalty_tier']).agg({\n",
    "    'revenue': 'sum',\n",
    "    'order_id': 'nunique'\n",
    "}).rename(columns={'order_id': 'num_orders'}).round(0).reset_index()\n",
    "print(signup_summary.head(10))"
   ]
  },
  {
   "cell_type": "code",
   "execution_count": null,
   "id": "65ac9c6c-d46d-4202-83e2-7cfa394ff0e7",
   "metadata": {},
   "outputs": [],
   "source": []
  }
 ],
 "metadata": {
  "kernelspec": {
   "display_name": "Python 3 (ipykernel)",
   "language": "python",
   "name": "python3"
  },
  "language_info": {
   "codemirror_mode": {
    "name": "ipython",
    "version": 3
   },
   "file_extension": ".py",
   "mimetype": "text/x-python",
   "name": "python",
   "nbconvert_exporter": "python",
   "pygments_lexer": "ipython3",
   "version": "3.12.4"
  }
 },
 "nbformat": 4,
 "nbformat_minor": 5
}
